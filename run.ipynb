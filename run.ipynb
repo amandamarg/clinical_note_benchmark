{
 "cells": [
  {
   "cell_type": "code",
   "execution_count": null,
   "id": "255264a7",
   "metadata": {},
   "outputs": [],
   "source": [
    "from dotenv import load_dotenv\n",
    "import pandas as pd\n",
    "import os\n",
    "\n",
    "load_dotenv()\n",
    "api_key = os.getenv(\"OZWELL_SECRET_KEY\")\n",
    "df = pd.read_json(\"hf://datasets/AGBonnet/augmented-clinical-notes/augmented_notes_30K.jsonl\", lines=True)"
   ]
  },
  {
   "cell_type": "code",
   "execution_count": null,
   "id": "9e02cb09",
   "metadata": {},
   "outputs": [],
   "source": [
    "import generate\n",
    "og = generate.OzwellGenerator(\"p1\", api_key)"
   ]
  },
  {
   "cell_type": "code",
   "execution_count": null,
   "id": "b31d15f3",
   "metadata": {},
   "outputs": [],
   "source": [
    "# run this cell to avoid overwriting any transcripts\n",
    "import re\n",
    "\n",
    "idx = []\n",
    "pattern = re.compile(r'transcript_(\\d+)_note.txt')\n",
    "for f in os.scandir(\"ozwell/p1\"):\n",
    "    idx.append(int(pattern.match(f.name)[1]))\n",
    "\n",
    "df = df[~df['idx'].isin(idx)]"
   ]
  },
  {
   "cell_type": "code",
   "execution_count": null,
   "id": "b9d0452c",
   "metadata": {},
   "outputs": [],
   "source": [
    "from tqdm import tqdm\n",
    "for _,row in tqdm(df.iterrows(), total=len(df), ncols=100):\n",
    "    _,transcript,idx,_,_ = row\n",
    "    og.generate_note(transcript, idx)"
   ]
  }
 ],
 "metadata": {
  "language_info": {
   "name": "python"
  }
 },
 "nbformat": 4,
 "nbformat_minor": 5
}
